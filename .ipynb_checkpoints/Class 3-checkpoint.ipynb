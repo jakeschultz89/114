{
 "cells": [
  {
   "cell_type": "code",
   "execution_count": 2,
   "id": "36030d5d",
   "metadata": {},
   "outputs": [],
   "source": [
    "class Stack:\n",
    "    def __init__(self):\n",
    "        self.items = []\n",
    "    def push(self, item):\n",
    "        self.items.append(item)\n",
    "    def pop(self):\n",
    "        return self.items.pop()\n",
    "    def is_empty(self):\n",
    "        return self.items == []\n",
    "    def peek(self):\n",
    "        self.items[len(self.items)-1]\n",
    "    def size(self):\n",
    "        return len(self.items)\n",
    "    def __len__(self):\n",
    "        return self.size()"
   ]
  },
  {
   "cell_type": "code",
   "execution_count": 3,
   "id": "8968bd1d",
   "metadata": {},
   "outputs": [],
   "source": [
    "class Queue2Stacks:\n",
    "    def __init__(self):\n",
    "        self.stack1 = [] # in stack\n",
    "        self.stack2 = [] # out stack\n",
    "        \n",
    "    def enqueue(self, element):\n",
    "        self.stack1.append(element)\n",
    "    \n",
    "    def dequeue(self):\n",
    "        if self.stack2 == []:\n",
    "            while self.stack1 != []:\n",
    "                self.stack2.append(self.stack1.pop())\n",
    "        return self.stack2.pop()\n",
    "            "
   ]
  },
  {
   "cell_type": "code",
   "execution_count": 4,
   "id": "deda8a1b",
   "metadata": {},
   "outputs": [],
   "source": [
    "def test():\n",
    "    # this should print: 0, 1, 2, 3, 4\n",
    "    # Note: it will print vertically\n",
    "    q = Queue2Stacks()\n",
    "    for i in range(5):\n",
    "        q.enqueue(i)\n",
    "    for i in range(5):\n",
    "        print(q.dequeue())"
   ]
  },
  {
   "cell_type": "code",
   "execution_count": 5,
   "id": "1a27d799",
   "metadata": {},
   "outputs": [
    {
     "name": "stdout",
     "output_type": "stream",
     "text": [
      "1\n",
      "2\n",
      "--------------------------------------------------\n",
      "1\n",
      "2\n"
     ]
    }
   ],
   "source": [
    "stack = []\n",
    "stack2 = []\n",
    "\n",
    "print(1)\n",
    "print(2)\n",
    "\n",
    "stack.append(1)\n",
    "stack.append(2)\n",
    "\n",
    "print(\"-\"*50)\n",
    "stack2.append(stack.pop())\n",
    "stack2.append(stack.pop())\n",
    "\n",
    "print(stack2.pop())\n",
    "print(stack2.pop())"
   ]
  },
  {
   "cell_type": "code",
   "execution_count": 6,
   "id": "a65b72cd",
   "metadata": {},
   "outputs": [
    {
     "name": "stdout",
     "output_type": "stream",
     "text": [
      "1\n",
      "2\n"
     ]
    }
   ],
   "source": [
    "queue = []\n",
    "\n",
    "queue.insert(0, 1)\n",
    "queue.insert(0, 2)\n",
    "\n",
    "print(queue.pop())\n",
    "print(queue.pop())"
   ]
  },
  {
   "cell_type": "code",
   "execution_count": 7,
   "id": "f53086e9",
   "metadata": {},
   "outputs": [
    {
     "name": "stdout",
     "output_type": "stream",
     "text": [
      "0\n",
      "1\n",
      "2\n",
      "3\n",
      "4\n"
     ]
    }
   ],
   "source": [
    "test()"
   ]
  },
  {
   "cell_type": "code",
   "execution_count": 8,
   "id": "d4756bd7",
   "metadata": {},
   "outputs": [],
   "source": [
    "def factorial(n):\n",
    "    if n == 0:\n",
    "        return 1\n",
    "    return n*factorial(n-1)"
   ]
  },
  {
   "cell_type": "code",
   "execution_count": 9,
   "id": "e64af205",
   "metadata": {},
   "outputs": [
    {
     "data": {
      "text/plain": [
       "3628800"
      ]
     },
     "execution_count": 9,
     "metadata": {},
     "output_type": "execute_result"
    }
   ],
   "source": [
    "factorial(10)"
   ]
  },
  {
   "cell_type": "code",
   "execution_count": 10,
   "id": "998939e7",
   "metadata": {},
   "outputs": [],
   "source": [
    "from functools import lru_cache\n",
    "\n",
    "@lru_cache\n",
    "def fib(n):\n",
    "    if n < 2:\n",
    "        return n\n",
    "    return fib(n-1) + fib(n-2)"
   ]
  },
  {
   "cell_type": "code",
   "execution_count": 11,
   "id": "c6a84397",
   "metadata": {},
   "outputs": [
    {
     "data": {
      "text/plain": [
       "354224848179261915075"
      ]
     },
     "execution_count": 11,
     "metadata": {},
     "output_type": "execute_result"
    }
   ],
   "source": [
    "fib(100)"
   ]
  },
  {
   "cell_type": "code",
   "execution_count": 12,
   "id": "ff5a6a41",
   "metadata": {},
   "outputs": [],
   "source": [
    "class Node:\n",
    "    def __init__(self, data):\n",
    "        self.data = data\n",
    "        self.next = None"
   ]
  },
  {
   "cell_type": "code",
   "execution_count": 13,
   "id": "9b23665a",
   "metadata": {},
   "outputs": [
    {
     "name": "stdout",
     "output_type": "stream",
     "text": [
      "A\n",
      "B\n",
      "C\n",
      "D\n",
      "E\n",
      "F\n",
      "G\n",
      "H\n",
      "I\n",
      "J\n",
      "K\n",
      "L\n",
      "M\n",
      "N\n",
      "O\n",
      "P\n",
      "Q\n",
      "R\n",
      "S\n",
      "T\n",
      "U\n",
      "V\n",
      "W\n",
      "X\n",
      "Y\n",
      "Z\n"
     ]
    }
   ],
   "source": [
    "head = None\n",
    "alphabet = \"ABCDEFGHIJKLMNOPQRSTUVWXYZ\"\n",
    "for letter in alphabet:\n",
    "    if not head:\n",
    "        head = Node(letter)\n",
    "    else:\n",
    "        current = head\n",
    "        while current.next:\n",
    "            current = current.next\n",
    "            \n",
    "        current.next = Node(letter)\n",
    "        \n",
    "current = head\n",
    "while current:\n",
    "    print(current.data)\n",
    "    current = current.next"
   ]
  },
  {
   "cell_type": "code",
   "execution_count": 14,
   "id": "6c61d8b2",
   "metadata": {},
   "outputs": [
    {
     "name": "stdout",
     "output_type": "stream",
     "text": [
      "4\n"
     ]
    }
   ],
   "source": [
    "mylist = []\n",
    "mylist.append(5)\n",
    "mylist.insert(0,4)\n",
    "print(mylist[0])"
   ]
  },
  {
   "cell_type": "code",
   "execution_count": 49,
   "id": "977b5505",
   "metadata": {},
   "outputs": [],
   "source": [
    "class SinglyLinkedList:\n",
    "    def __init__(self):\n",
    "        self.head = None\n",
    "        self.tail = None\n",
    "        \n",
    "#     def prepend(self): # add elements to the front of the list.\n",
    "\n",
    "    def insert(self, index, data):\n",
    "        # the first thing to do\n",
    "        # is not make any assumptions that the\n",
    "        # append operation has not been called prior to this.\n",
    "        if not self.head:\n",
    "            self.head = Node(data)\n",
    "        elif index== 0:\n",
    "            new_node = Node(data) # 0. create a new node with \"data\"\n",
    "            temp = self.head      # 1. create a reference to current head\n",
    "            new_node.next = temp  # 2. point our new_node's \"next\" to that ref.\n",
    "            self.head = new_node  # 3. set self.head to new_node\n",
    "        else:\n",
    "            current = self.head\n",
    "            counter = 0\n",
    "            \n",
    "            while current.next and counter != index:\n",
    "                current = current.next\n",
    "                counter += 1\n",
    "            if not current.next:\n",
    "                current.next = Node(data)\n",
    "            else:\n",
    "                temp = current.next\n",
    "                new_node = Node(data)\n",
    "                current.next = new_node\n",
    "                new_node.next = temp\n",
    "        \n",
    "    def append(self, data):\n",
    "        if not self.head:\n",
    "            self.head = Node(data)\n",
    "        else:\n",
    "            current = self.head\n",
    "            while current.next:\n",
    "                current = current.next\n",
    "            current.next = Node(data)\n",
    "            \n",
    "    def __repr__(self):\n",
    "        out_str = \"\"\n",
    "        current = self.head\n",
    "        while current:\n",
    "            out_str += \"%s, \" % current.data\n",
    "            current = current.next\n",
    "        return \"[%s]\" % out_str\n",
    "    \n",
    "    def get_index(self, index):\n",
    "        counter = 0\n",
    "        current = self.head\n",
    "        while current and counter != index:\n",
    "            current = current.next\n",
    "            counter += 1\n",
    "        if counter != index:\n",
    "            raise IndexError(\"list index out of range\")\n",
    "        return(current.data)\n",
    "    \n",
    "    def remove(self, value):\n",
    "        found = False\n",
    "        if not self.head:\n",
    "            raise ValueError(\"list.remove(%s): %s in not in the list\" % (value, value))\n",
    "        else:\n",
    "            if self.head.data == value:   # case 1\n",
    "                self.head = self.head.next\n",
    "                found = True\n",
    "            else: \n",
    "                current = self.head.next\n",
    "                prev = self.head\n",
    "                \n",
    "                while current and not found:\n",
    "                    if current.data == value:\n",
    "                        prev.next = current.next\n",
    "                        found = True\n",
    "                    prev = current\n",
    "                    current = current.next\n",
    "            if not found:\n",
    "                raise ValueError(\"list.remove(%s): %s in not in the list\" % (value, value))\n",
    "                \n",
    "    def count(self, value):\n",
    "        current = self.head\n",
    "        count = 0\n",
    "        while current:\n",
    "            if current.data == value:\n",
    "                count += 1\n",
    "            current = current.next\n",
    "        return count\n",
    "    \n",
    "    def index(self, value):\n",
    "        current = self.head\n",
    "        index = 0\n",
    "        while current:\n",
    "            if current.data == value:\n",
    "                return index\n",
    "        else:\n",
    "            index += 1\n",
    "            current = current.next\n",
    "        raise ValueError(\"Value not found\")"
   ]
  },
  {
   "cell_type": "code",
   "execution_count": 16,
   "id": "5e483dcd",
   "metadata": {
    "scrolled": true
   },
   "outputs": [
    {
     "name": "stdout",
     "output_type": "stream",
     "text": [
      "[1, 2, 3, 4, 5, 6, 7, 8, 9, 10, 11, 12, 13, 14, 15, 16, 17, 18, 19, 20, 21, 22, 23, 24, 25, 26, 27, 28, 29, 30, 31, 32, 33, 34, 35, 36, 37, 38, 39, 40, 41, 42, 43, 44, 45, 46, 47, 48, 49, 50, 51, 52, 53, 54, 55, 56, 57, 58, 59, 60, 61, 62, 63, 64, 65, 66, 67, 68, 69, 70, 71, 72, 73, 74, 75, 76, 77, 78, 79, 80, 81, 82, 83, 84, 85, 86, 87, 88, 89, 90, 91, 92, 93, 94, 95, 96, 97, 98, 99, 100, ]\n",
      "13\n"
     ]
    }
   ],
   "source": [
    "sll = SinglyLinkedList()\n",
    "\n",
    "for number in range(1, 101):\n",
    "    sll.append(number)\n",
    "    \n",
    "    \n",
    "print(sll)\n",
    "print(sll.get_index(12))"
   ]
  },
  {
   "cell_type": "code",
   "execution_count": 47,
   "id": "fe58098b",
   "metadata": {},
   "outputs": [
    {
     "name": "stdout",
     "output_type": "stream",
     "text": [
      "insert values from 2 to 18 at index 0:\n",
      "[18, 16, 14, 12, 10, 8, 6, 4, 2, ]\n",
      "\n",
      "Insert letters from A to E at index 4:\n",
      "[18, 16, 14, 12, 10, E, D, C, B, A, 8, 6, 4, 2, ]\n",
      "\n",
      "Remove letters from A to e (values):\n",
      "[18, 16, 14, 12, 10, 8, 6, 4, 2, ]\n",
      "\n",
      "Remove current head:\n",
      "[16, 14, 12, 10, 8, 6, 4, 2, ]\n",
      "1\n"
     ]
    }
   ],
   "source": [
    "sll = SinglyLinkedList()\n",
    "\n",
    "for number in range(2, 20, 2):\n",
    "    sll.insert(0, number)\n",
    "    \n",
    "print(\"insert values from 2 to 18 at index 0:\")\n",
    "print(sll)\n",
    "\n",
    "for letter in \"ABCDE\":\n",
    "    sll.insert(4, letter)\n",
    "\n",
    "print(\"\\nInsert letters from A to E at index 4:\")\n",
    "print(sll)\n",
    "\n",
    "for letter in \"ABCDE\":\n",
    "    sll.remove(letter)\n",
    "    \n",
    "print(\"\\nRemove letters from A to e (values):\")\n",
    "print(sll)\n",
    "\n",
    "sll.remove(18)\n",
    "\n",
    "print(\"\\nRemove current head:\")\n",
    "print(sll)\n",
    "\n",
    "print(sll.count(14))"
   ]
  },
  {
   "cell_type": "code",
   "execution_count": 1,
   "id": "c89b27c3",
   "metadata": {},
   "outputs": [],
   "source": [
    "class HashTable(object):\n",
    "def __init__(self, size):\n",
    "    self.size = size\n",
    "    self.slots = [None] * self.size\n",
    "    self.data = [None] * self.size\n",
    "    \n",
    "def put(self, key, data):\n",
    "    hashvalue = self.hashfunction(key, len(self.slots))\n",
    "    \n",
    "    if self.slots[hashvalue] == None:\n",
    "        self.slots[hashvalue] = key\n",
    "        self.data[hashvalue] = data\n",
    "        \n",
    "    else:\n",
    "        if self.slots[hashvalue] == key:\n",
    "            self.data[hashvalue] = data\n",
    "            \n",
    "        else:\n",
    "            nextslot = self.rehash(hashvalue, len(self.slots))\n",
    "            \n",
    "            while self.slots[nextslot] != None and self.slots[nextslot] != key:\n",
    "                nextslot = self.rehash(nextslot, len(self.slots))\n",
    "                \n",
    "            if self.slots[nextslot] == None:\n",
    "                self.slots[nextslot] = key\n",
    "                self.data[nextslot] = data\n",
    "                \n",
    "            else:\n",
    "                self.data[nextslot] = data"
   ]
  },
  {
   "cell_type": "code",
   "execution_count": null,
   "id": "cef3c02a",
   "metadata": {},
   "outputs": [],
   "source": [
    "    def hashfunction(self, key, size):\n",
    "        return key%size\n",
    "\n",
    "    def rehash(self, oldhash, size):\n",
    "        return (oldhash+1)%size\n",
    "    \n",
    "    def get(self, key):\n",
    "        startslot = self.hashfunction(key, len(self.slots))\n",
    "        data = None\n",
    "        stop = False\n",
    "        found = False\n",
    "        position = startslot\n",
    "        \n",
    "        while self.slots[position] != None and not found and not stop:\n",
    "            if self.slots[position] == key:\n",
    "                found = True\n",
    "                data = self.data[position]\n",
    "            else:\n",
    "                position=self.rehash(position, len(self.slots))\n",
    "                if position == startslot:\n",
    "                    stop = True\n",
    "        return data\n",
    "    \n",
    "    \n",
    "    def __getitem__(self, key):\n",
    "        return self.get(key)\n",
    "    \n",
    "    def __setitem__(self, key, data):\n",
    "        self.put(key, data)"
   ]
  }
 ],
 "metadata": {
  "kernelspec": {
   "display_name": "Python 3 (ipykernel)",
   "language": "python",
   "name": "python3"
  },
  "language_info": {
   "codemirror_mode": {
    "name": "ipython",
    "version": 3
   },
   "file_extension": ".py",
   "mimetype": "text/x-python",
   "name": "python",
   "nbconvert_exporter": "python",
   "pygments_lexer": "ipython3",
   "version": "3.10.0"
  }
 },
 "nbformat": 4,
 "nbformat_minor": 5
}
