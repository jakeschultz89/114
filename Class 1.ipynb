{
 "cells": [
  {
   "cell_type": "markdown",
   "id": "2af86bbb",
   "metadata": {},
   "source": [
    "for letter in \"hello, world!\":\n",
    "    print(letter)"
   ]
  },
  {
   "cell_type": "markdown",
   "id": "cfe1b1b9",
   "metadata": {},
   "source": []
  },
  {
   "cell_type": "code",
   "execution_count": null,
   "id": "a6b662f7",
   "metadata": {},
   "outputs": [],
   "source": []
  },
  {
   "cell_type": "markdown",
   "id": "c9d0c446",
   "metadata": {},
   "source": [
    "#Hey\n",
    "##Her\\y"
   ]
  },
  {
   "cell_type": "code",
   "execution_count": 3,
   "id": "b69fd2ba",
   "metadata": {},
   "outputs": [],
   "source": [
    "#hey"
   ]
  },
  {
   "cell_type": "markdown",
   "id": "e9e86766",
   "metadata": {},
   "source": [
    "#Hey\n"
   ]
  },
  {
   "cell_type": "code",
   "execution_count": null,
   "id": "e1ec4217",
   "metadata": {},
   "outputs": [],
   "source": [
    "#####Hey"
   ]
  },
  {
   "cell_type": "code",
   "execution_count": null,
   "id": "b2e18bf0",
   "metadata": {},
   "outputs": [],
   "source": []
  }
 ],
 "metadata": {
  "kernelspec": {
   "display_name": "Python 3 (ipykernel)",
   "language": "python",
   "name": "python3"
  },
  "language_info": {
   "codemirror_mode": {
    "name": "ipython",
    "version": 3
   },
   "file_extension": ".py",
   "mimetype": "text/x-python",
   "name": "python",
   "nbconvert_exporter": "python",
   "pygments_lexer": "ipython3",
   "version": "3.10.0"
  }
 },
 "nbformat": 4,
 "nbformat_minor": 5
}
