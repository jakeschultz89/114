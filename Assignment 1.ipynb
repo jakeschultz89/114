{
 "cells": [
  {
   "cell_type": "code",
   "execution_count": 2,
   "id": "b37fbb2b",
   "metadata": {},
   "outputs": [
    {
     "name": "stdout",
     "output_type": "stream",
     "text": [
      "H\n",
      "e\n",
      "l\n",
      "l\n",
      "o\n",
      ",\n",
      " \n",
      "W\n",
      "o\n",
      "r\n",
      "l\n",
      "d\n",
      "!\n"
     ]
    }
   ],
   "source": [
    "for letter in \"Hello, World!\":\n",
    "    print(letter)"
   ]
  },
  {
   "cell_type": "markdown",
   "id": "9c1aaf92",
   "metadata": {},
   "source": [
    "##Hey\n"
   ]
  },
  {
   "cell_type": "markdown",
   "id": "87a0cb49",
   "metadata": {},
   "source": [
    "#Hey\n",
    "##Hey\n",
    "###Hey"
   ]
  },
  {
   "cell_type": "code",
   "execution_count": null,
   "id": "e194bb3d",
   "metadata": {},
   "outputs": [],
   "source": []
  },
  {
   "cell_type": "markdown",
   "id": "78c538b6",
   "metadata": {},
   "source": [
    "# Problem 1\n",
    "### Given two strings (string_a and string_b) let's check whether or not they are anagrams of each other given the following criteria:\n",
    "> Two strings are only anagrams of each other if all the conditions below are met:\n",
    "> * They must be exactly the same length.\n",
    "> * They must use the same characters (no more, no less).\n",
    "\n",
    "Example: Cars and scar, heart and earth, etc."
   ]
  },
  {
   "cell_type": "code",
   "execution_count": 5,
   "id": "c18cb20d",
   "metadata": {},
   "outputs": [],
   "source": [
    "def is_anagram(string_a, string_b):\n",
    "    string_a = string_a.replace(\" \",\"\")\n",
    "    string_b = string_b.replace(\" \",\"\")\n",
    "    string_a = string_a.lower()\n",
    "    string_b = string_b.lower()\n",
    "    if len(string_a) != len(string_b):              # if the length of string_a is not equal to string_b\n",
    "        return False                                # return False\n",
    "    char_times_a = dict()                           # creating an empty dictionary\n",
    "    char_times_b = dict()                           # creating an empty dictionary\n",
    "    for i in range(len(string_a)):                  # iterating over all the values from 0 to the legnth of string_a\n",
    "        if string_a[i] not in char_times_a.keys():  # checking if the char is seen at index \"i\" in string_a\n",
    "            char_times_a[string_a[i]] = 1           # if yes, adding 1.\n",
    "        else:                                       # else\n",
    "            char_times_a[string_a[i]] += 1          # if already seen, add 1 for every time it is seen again.\n",
    "        if string_b[i] not in char_times_b.keys():  # checking if the char is seen at index \"i\" in string_b\n",
    "            char_times_b[string_b[i]] = 1           # if yes, adding 1.\n",
    "        else:                                       # else\n",
    "            char_times_b[string_b[i]] += 1          # if already seen, add 1 for every time it is seen again\n",
    "    return char_times_a == char_times_b             # checking to see if char_times_a is EXACTLY the same as char_times_b"
   ]
  },
  {
   "cell_type": "code",
   "execution_count": 6,
   "id": "3eb91e1e",
   "metadata": {},
   "outputs": [
    {
     "ename": "NameError",
     "evalue": "name 'string' is not defined",
     "output_type": "error",
     "traceback": [
      "\u001b[0;31m---------------------------------------------------------------------------\u001b[0m",
      "\u001b[0;31mNameError\u001b[0m                                 Traceback (most recent call last)",
      "\u001b[0;32m/var/folders/bb/mdywc77d1xj8t2mbqsw3xnzw0000gn/T/ipykernel_32540/2747920885.py\u001b[0m in \u001b[0;36m<module>\u001b[0;34m\u001b[0m\n\u001b[0;32m----> 1\u001b[0;31m \u001b[0mis_anagram\u001b[0m\u001b[0;34m(\u001b[0m\u001b[0;34m\"cars\"\u001b[0m\u001b[0;34m,\u001b[0m\u001b[0;34m\"scar\"\u001b[0m\u001b[0;34m)\u001b[0m\u001b[0;34m\u001b[0m\u001b[0;34m\u001b[0m\u001b[0m\n\u001b[0m",
      "\u001b[0;32m/var/folders/bb/mdywc77d1xj8t2mbqsw3xnzw0000gn/T/ipykernel_32540/1314692508.py\u001b[0m in \u001b[0;36mis_anagram\u001b[0;34m(string_a, string_b)\u001b[0m\n\u001b[1;32m     10\u001b[0m             \u001b[0mchar_times_a\u001b[0m\u001b[0;34m[\u001b[0m\u001b[0mstring_a\u001b[0m\u001b[0;34m[\u001b[0m\u001b[0mi\u001b[0m\u001b[0;34m]\u001b[0m\u001b[0;34m]\u001b[0m \u001b[0;34m+=\u001b[0m \u001b[0;36m1\u001b[0m\u001b[0;34m\u001b[0m\u001b[0;34m\u001b[0m\u001b[0m\n\u001b[1;32m     11\u001b[0m         \u001b[0;32mif\u001b[0m \u001b[0mstring_b\u001b[0m\u001b[0;34m[\u001b[0m\u001b[0mi\u001b[0m\u001b[0;34m]\u001b[0m \u001b[0;32mnot\u001b[0m \u001b[0;32min\u001b[0m \u001b[0mchar_times_b\u001b[0m\u001b[0;34m.\u001b[0m\u001b[0mkeys\u001b[0m\u001b[0;34m(\u001b[0m\u001b[0;34m)\u001b[0m\u001b[0;34m:\u001b[0m\u001b[0;34m\u001b[0m\u001b[0;34m\u001b[0m\u001b[0m\n\u001b[0;32m---> 12\u001b[0;31m             \u001b[0mchar_times_b\u001b[0m\u001b[0;34m[\u001b[0m\u001b[0mstring\u001b[0m\u001b[0;34m[\u001b[0m\u001b[0mi\u001b[0m\u001b[0;34m]\u001b[0m\u001b[0;34m]\u001b[0m \u001b[0;34m=\u001b[0m \u001b[0;36m1\u001b[0m\u001b[0;34m\u001b[0m\u001b[0;34m\u001b[0m\u001b[0m\n\u001b[0m\u001b[1;32m     13\u001b[0m         \u001b[0;32melse\u001b[0m\u001b[0;34m:\u001b[0m\u001b[0;34m\u001b[0m\u001b[0;34m\u001b[0m\u001b[0m\n\u001b[1;32m     14\u001b[0m             \u001b[0mchar_times_b\u001b[0m\u001b[0;34m[\u001b[0m\u001b[0mstring\u001b[0m\u001b[0;34m[\u001b[0m\u001b[0mi\u001b[0m\u001b[0;34m]\u001b[0m\u001b[0;34m]\u001b[0m \u001b[0;34m+=\u001b[0m \u001b[0;36m1\u001b[0m\u001b[0;34m\u001b[0m\u001b[0;34m\u001b[0m\u001b[0m\n",
      "\u001b[0;31mNameError\u001b[0m: name 'string' is not defined"
     ]
    }
   ],
   "source": [
    "is_anagram(\"cars\",\"scar\")"
   ]
  },
  {
   "cell_type": "code",
   "execution_count": 8,
   "id": "34f72431",
   "metadata": {},
   "outputs": [
    {
     "data": {
      "text/plain": [
       "True"
      ]
     },
     "execution_count": 8,
     "metadata": {},
     "output_type": "execute_result"
    }
   ],
   "source": [
    "is_anagram(\"cars\",\"scar\")"
   ]
  },
  {
   "cell_type": "code",
   "execution_count": 1,
   "id": "bcccc648",
   "metadata": {},
   "outputs": [],
   "source": [
    "class Stack:\n",
    "    def __init__(self):\n",
    "        self.items = []\n",
    "    def push(self, item):\n",
    "        self.items.append(item)\n",
    "    def pop(self):\n",
    "        return self.items.pop()\n",
    "    def is_empty(self):\n",
    "        return self.items == []\n",
    "    def peek(self):\n",
    "        self.items[len(self.items)-1]\n",
    "    def size(self):\n",
    "        return len(self.items)\n",
    "    def __len__(self):\n",
    "        return self.size()"
   ]
  },
  {
   "cell_type": "code",
   "execution_count": 2,
   "id": "64d0c83b",
   "metadata": {},
   "outputs": [
    {
     "data": {
      "text/plain": [
       "False"
      ]
     },
     "execution_count": 2,
     "metadata": {},
     "output_type": "execute_result"
    }
   ],
   "source": [
    "mystring = \"Jake\"\n",
    "# i want:\n",
    "mystring == \"ekaJ\""
   ]
  },
  {
   "cell_type": "code",
   "execution_count": 3,
   "id": "142d88eb",
   "metadata": {},
   "outputs": [],
   "source": [
    "def reverse_str(mystring):\n",
    "    stack=Stack()\n",
    "    output=\"\"\n",
    "    for letter in mystring:\n",
    "        stack.push(letter)\n",
    "    while not stack.is_empty():\n",
    "        output += stack.pop()\n",
    "    return output"
   ]
  },
  {
   "cell_type": "code",
   "execution_count": 4,
   "id": "a9289a70",
   "metadata": {},
   "outputs": [
    {
     "data": {
      "text/plain": [
       "'ekaJ'"
      ]
     },
     "execution_count": 4,
     "metadata": {},
     "output_type": "execute_result"
    }
   ],
   "source": [
    "reverse_str(\"Jake\")"
   ]
  },
  {
   "cell_type": "code",
   "execution_count": 6,
   "id": "4294e34d",
   "metadata": {},
   "outputs": [
    {
     "data": {
      "text/plain": [
       "True"
      ]
     },
     "execution_count": 6,
     "metadata": {},
     "output_type": "execute_result"
    }
   ],
   "source": [
    "is_anagram(\"cars\",\"scar\")"
   ]
  },
  {
   "cell_type": "code",
   "execution_count": 7,
   "id": "e4ac8ae1",
   "metadata": {},
   "outputs": [
    {
     "data": {
      "text/plain": [
       "True"
      ]
     },
     "execution_count": 7,
     "metadata": {},
     "output_type": "execute_result"
    }
   ],
   "source": [
    "is_anagram(\"Cars\",\"scar\")"
   ]
  },
  {
   "cell_type": "code",
   "execution_count": 8,
   "id": "5be11f1c",
   "metadata": {},
   "outputs": [
    {
     "data": {
      "text/plain": [
       "False"
      ]
     },
     "execution_count": 8,
     "metadata": {},
     "output_type": "execute_result"
    }
   ],
   "source": [
    "is_anagram(\"I am Lord Voldemort\",\"scar\")"
   ]
  },
  {
   "cell_type": "code",
   "execution_count": 9,
   "id": "46a04378",
   "metadata": {},
   "outputs": [
    {
     "data": {
      "text/plain": [
       "True"
      ]
     },
     "execution_count": 9,
     "metadata": {},
     "output_type": "execute_result"
    }
   ],
   "source": [
    "is_anagram(\"I am Lord Voldemort\",\"Tom Marvolo Riddle\")"
   ]
  },
  {
   "cell_type": "code",
   "execution_count": null,
   "id": "1a4085aa",
   "metadata": {},
   "outputs": [],
   "source": []
  }
 ],
 "metadata": {
  "kernelspec": {
   "display_name": "Python 3 (ipykernel)",
   "language": "python",
   "name": "python3"
  },
  "language_info": {
   "codemirror_mode": {
    "name": "ipython",
    "version": 3
   },
   "file_extension": ".py",
   "mimetype": "text/x-python",
   "name": "python",
   "nbconvert_exporter": "python",
   "pygments_lexer": "ipython3",
   "version": "3.10.0"
  }
 },
 "nbformat": 4,
 "nbformat_minor": 5
}
